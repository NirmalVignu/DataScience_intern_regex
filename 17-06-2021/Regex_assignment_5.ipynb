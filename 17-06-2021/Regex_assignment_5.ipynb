{
 "cells": [
  {
   "cell_type": "markdown",
   "metadata": {},
   "source": [
    "## Task-5\n",
    "## Name-Varigonda Sai Nirmal Vignu\n",
    "## Reg Id-SIRSS1146"
   ]
  },
  {
   "cell_type": "markdown",
   "metadata": {},
   "source": [
    "# Q1. Given a list of integers, write a function to return the sum of all prime numbers in that list."
   ]
  },
  {
   "cell_type": "code",
   "execution_count": 18,
   "metadata": {},
   "outputs": [
    {
     "name": "stdout",
     "output_type": "stream",
     "text": [
      "1 2 3 4 5 6 7 11 13 14\n",
      "Sum of Prime numbers in givent list is :  45\n"
     ]
    }
   ],
   "source": [
    "def prime(n):\n",
    "    if n==1 or n==0:\n",
    "        return False\n",
    "    for i in range(2,n//2):\n",
    "        if n%i==0:\n",
    "            return False\n",
    "    return True\n",
    "def sumPrime(l):\n",
    "    sum=0\n",
    "    for i in l:\n",
    "        if(prime(i)):\n",
    "            sum+=i\n",
    "    return sum\n",
    "if __name__=='__main__':\n",
    "    l=list(map(int,input().split()))\n",
    "    print(\"Sum of Prime numbers in givent list is : \",sumPrime(l))\n",
    "    \n"
   ]
  },
  {
   "cell_type": "markdown",
   "metadata": {},
   "source": [
    "# Q2. Given a list of integers, write a function to check whether the list is strictly increasing or not."
   ]
  },
  {
   "cell_type": "code",
   "execution_count": null,
   "metadata": {},
   "outputs": [],
   "source": [
    "def strict(l):\n",
    "    res = all(i < j for i, j in zip(l, l[1:]))\n",
    "    return res\n",
    "if __name__=='__main__':\n",
    "    l=list(map(int,input().split()))\n",
    "    print(\"List is Strictly Increasing ?: \",strict(l))\n"
   ]
  },
  {
   "cell_type": "markdown",
   "metadata": {},
   "source": [
    "# Q3. Write a function to check whether a given list is expanding or not (the difference between adjacent elements should keep on increasing)."
   ]
  },
  {
   "cell_type": "code",
   "execution_count": 2,
   "metadata": {},
   "outputs": [
    {
     "name": "stdout",
     "output_type": "stream",
     "text": [
      "1 2 5 10\n",
      "List is Expanding ?: \n",
      "True\n"
     ]
    }
   ],
   "source": [
    "def expand(k):\n",
    "    diff1=k[1]-k[0]\n",
    "    for i in range(2,len(k)):\n",
    "        diff=k[i]-k[i-1]\n",
    "        if(diff<=diff1):\n",
    "            print('False')\n",
    "            break\n",
    "        diff1=diff\n",
    "    else:\n",
    "        print('True')\n",
    "if __name__=='__main__':\n",
    "    l=list(map(int,input().split()))\n",
    "    print(\"List is Expanding ?: \")\n",
    "    expand(l)\n"
   ]
  },
  {
   "cell_type": "markdown",
   "metadata": {},
   "source": [
    "# Q4. Write a function to calculate all permutations of a given string. (Without using itertools)"
   ]
  },
  {
   "cell_type": "code",
   "execution_count": 24,
   "metadata": {},
   "outputs": [
    {
     "name": "stdout",
     "output_type": "stream",
     "text": [
      "abc\n",
      "Permutations of given string abc are\n",
      "abc\n",
      "acb\n",
      "bac\n",
      "bca\n",
      "cba\n",
      "cab\n"
     ]
    }
   ],
   "source": [
    "def toString(lst):\n",
    "    return ''.join(lst)\n",
    "def permute(a, l, r):\n",
    "    if l==r:\n",
    "        print(toString(a))\n",
    "    else:\n",
    "        for i in range(l,r+1):\n",
    "            a[l], a[i] = a[i], a[l]\n",
    "            permute(a, l+1, r)\n",
    "            a[l], a[i] = a[i], a[l] \n",
    "\n",
    "if __name__=='__main__':\n",
    "    string = input()\n",
    "    n = len(string)\n",
    "    a = list(string)\n",
    "    print('Permutations of given string '+string+' are')\n",
    "    permute(a, 0, n-1)"
   ]
  },
  {
   "cell_type": "code",
   "execution_count": null,
   "metadata": {},
   "outputs": [],
   "source": []
  }
 ],
 "metadata": {
  "kernelspec": {
   "display_name": "Python 3",
   "language": "python",
   "name": "python3"
  },
  "language_info": {
   "codemirror_mode": {
    "name": "ipython",
    "version": 3
   },
   "file_extension": ".py",
   "mimetype": "text/x-python",
   "name": "python",
   "nbconvert_exporter": "python",
   "pygments_lexer": "ipython3",
   "version": "3.7.0"
  }
 },
 "nbformat": 4,
 "nbformat_minor": 2
}
