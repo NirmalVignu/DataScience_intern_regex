{
 "cells": [
  {
   "cell_type": "markdown",
   "metadata": {},
   "source": [
    "## Task-3 Programs using functions\n",
    "## Name-Varigonda Sai Nirmal Vignu\n",
    "## Reg Id-SIRSS1146"
   ]
  },
  {
   "cell_type": "markdown",
   "metadata": {},
   "source": [
    "# Q1. Write a function to return nth term of Fibonacci sequence."
   ]
  },
  {
   "cell_type": "code",
   "execution_count": 40,
   "metadata": {},
   "outputs": [
    {
     "name": "stdout",
     "output_type": "stream",
     "text": [
      "Enter n value: 12\n",
      "12 th term of fibbonacci sequence is:  89\n"
     ]
    }
   ],
   "source": [
    "def fib(n):\n",
    "    if n<0:\n",
    "        print('Fibbonacci can\\'t be computed')\n",
    "    elif n==1:\n",
    "        return 0\n",
    "    elif n==2:\n",
    "        return 1\n",
    "    else:\n",
    "        return fib(n-1)+fib(n-2)\n",
    "if __name__=='__main__':\n",
    "    n= int(input(\"Enter n value: \"))\n",
    "    print(n,\"th term of fibbonacci sequence is: \",fib(n))\n"
   ]
  },
  {
   "cell_type": "markdown",
   "metadata": {},
   "source": [
    "# Q2. Write a function to find out GCD of two numbers using EUCLID'S algorithm."
   ]
  },
  {
   "cell_type": "code",
   "execution_count": 41,
   "metadata": {},
   "outputs": [
    {
     "name": "stdout",
     "output_type": "stream",
     "text": [
      "Enter m value: 13\n",
      "Enter n value: 4\n",
      "GCD of  13 and 4 is : 1\n"
     ]
    }
   ],
   "source": [
    "def gcd(m,n):\n",
    "    if m==0:\n",
    "        return n\n",
    "    else:\n",
    "        return(gcd(n%m,m))\n",
    "if __name__=='__main__':\n",
    "    m= int(input(\"Enter m value: \"))\n",
    "    n= int(input(\"Enter n value: \"))\n",
    "    print(\"GCD of \",m,\"and\",n,\"is :\",gcd(m,n))\n"
   ]
  },
  {
   "cell_type": "markdown",
   "metadata": {},
   "source": [
    "# Q3. Write a function to find LCM of two number in most optimizers way. "
   ]
  },
  {
   "cell_type": "code",
   "execution_count": 42,
   "metadata": {},
   "outputs": [
    {
     "name": "stdout",
     "output_type": "stream",
     "text": [
      "Enter m value: 13\n",
      "Enter n value: 12\n",
      "LCM of  13 and 12 is : 156\n"
     ]
    }
   ],
   "source": [
    "#to find lcm we can easily  do a*b and divide it with gcd of a,b it is the most optimized way\n",
    "def gcd(m,n):\n",
    "    if m==0:\n",
    "        return n\n",
    "    else:\n",
    "        return(gcd(n%m,m))\n",
    "def lcm(m,n):\n",
    "    lcm=m*n//gcd(m,n)\n",
    "    return lcm\n",
    "if __name__=='__main__':\n",
    "    m= int(input(\"Enter m value: \"))\n",
    "    n= int(input(\"Enter n value: \"))\n",
    "    print(\"LCM of \",m,\"and\",n,\"is :\",lcm(m,n))"
   ]
  },
  {
   "cell_type": "code",
   "execution_count": null,
   "metadata": {},
   "outputs": [],
   "source": []
  }
 ],
 "metadata": {
  "kernelspec": {
   "display_name": "Python 3",
   "language": "python",
   "name": "python3"
  },
  "language_info": {
   "codemirror_mode": {
    "name": "ipython",
    "version": 3
   },
   "file_extension": ".py",
   "mimetype": "text/x-python",
   "name": "python",
   "nbconvert_exporter": "python",
   "pygments_lexer": "ipython3",
   "version": "3.7.0"
  }
 },
 "nbformat": 4,
 "nbformat_minor": 2
}
